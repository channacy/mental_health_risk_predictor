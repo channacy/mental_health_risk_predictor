{
  "nbformat": 4,
  "nbformat_minor": 0,
  "metadata": {
    "colab": {
      "provenance": [],
      "authorship_tag": "ABX9TyNjCfjVEuYU1Ru4UGT4wN8A",
      "include_colab_link": true
    },
    "kernelspec": {
      "name": "python3",
      "display_name": "Python 3"
    },
    "language_info": {
      "name": "python"
    }
  },
  "cells": [
    {
      "cell_type": "markdown",
      "metadata": {
        "id": "view-in-github",
        "colab_type": "text"
      },
      "source": [
        "<a href=\"https://colab.research.google.com/github/channacy/mental_health_risk_predictor/blob/main/KWK_FINAL_PROJECT.ipynb\" target=\"_parent\"><img src=\"https://colab.research.google.com/assets/colab-badge.svg\" alt=\"Open In Colab\"/></a>"
      ]
    },
    {
      "cell_type": "code",
      "metadata": {
        "id": "U_X8A4cMT-lx"
      },
      "source": [
        "# importing packages \n",
        "import math\n",
        "import statistics\n",
        "import numpy as np\n",
        "import scipy.stats\n",
        "import pandas as pd\n",
        "import matplotlib.pyplot as plt\n",
        "import seaborn as sns\n",
        "import matplotlib.pyplot as plt\n",
        "\n",
        "pd.options.display.max_columns = None\n",
        "from sklearn.linear_model import LinearRegression\n"
      ],
      "execution_count": 22,
      "outputs": []
    },
    {
      "cell_type": "code",
      "metadata": {
        "colab": {
          "base_uri": "https://localhost:8080/",
          "height": 300
        },
        "id": "Lu3LZ-ZxXbo3",
        "outputId": "46927a92-0721-4925-eab9-0d2945b77564"
      },
      "source": [
        "url = 'https://raw.githubusercontent.com/channacy/mental_health_US/main/Mental%20Health%20and%20GDP%20-%20Sheet1-6.csv'\n",
        "data = pd.read_csv(url)\n",
        "data.head()\n",
        "data.describe()\n",
        "#percent_gdp is percantage of the nation's gdp "
      ],
      "execution_count": 23,
      "outputs": [
        {
          "output_type": "execute_result",
          "data": {
            "text/plain": [
              "       One_Severe_Depressive  Severe_Depressive  sub_disorder          GDP   \\\n",
              "count              50.000000          50.000000     50.000000  5.000000e+01   \n",
              "mean               14.281600          10.126000      4.040000  4.181460e+05   \n",
              "std                 1.432016           1.834678      0.573706  5.418648e+05   \n",
              "min                11.400000           6.300000      3.160000  3.327800e+04   \n",
              "25%                13.177500           9.000000      3.630000  9.259375e+04   \n",
              "50%                14.260000           9.800000      4.005000  2.450250e+05   \n",
              "75%                15.105000          11.675000      4.362500  5.496965e+05   \n",
              "max                17.570000          13.500000      5.610000  3.120386e+06   \n",
              "\n",
              "       percent_gdp  gdp_growth_percent  \n",
              "count      50.0000            50.00000  \n",
              "mean        1.9760             2.14800  \n",
              "std         2.5597             1.14611  \n",
              "min         0.2000            -0.30000  \n",
              "25%         0.4250             1.40000  \n",
              "50%         1.2000             2.05000  \n",
              "75%         2.5750             2.77500  \n",
              "max        14.7000             5.70000  "
            ],
            "text/html": [
              "\n",
              "  <div id=\"df-36ce98a1-95c9-4e24-8dcb-f3e5286633d0\">\n",
              "    <div class=\"colab-df-container\">\n",
              "      <div>\n",
              "<style scoped>\n",
              "    .dataframe tbody tr th:only-of-type {\n",
              "        vertical-align: middle;\n",
              "    }\n",
              "\n",
              "    .dataframe tbody tr th {\n",
              "        vertical-align: top;\n",
              "    }\n",
              "\n",
              "    .dataframe thead th {\n",
              "        text-align: right;\n",
              "    }\n",
              "</style>\n",
              "<table border=\"1\" class=\"dataframe\">\n",
              "  <thead>\n",
              "    <tr style=\"text-align: right;\">\n",
              "      <th></th>\n",
              "      <th>One_Severe_Depressive</th>\n",
              "      <th>Severe_Depressive</th>\n",
              "      <th>sub_disorder</th>\n",
              "      <th>GDP</th>\n",
              "      <th>percent_gdp</th>\n",
              "      <th>gdp_growth_percent</th>\n",
              "    </tr>\n",
              "  </thead>\n",
              "  <tbody>\n",
              "    <tr>\n",
              "      <th>count</th>\n",
              "      <td>50.000000</td>\n",
              "      <td>50.000000</td>\n",
              "      <td>50.000000</td>\n",
              "      <td>5.000000e+01</td>\n",
              "      <td>50.0000</td>\n",
              "      <td>50.00000</td>\n",
              "    </tr>\n",
              "    <tr>\n",
              "      <th>mean</th>\n",
              "      <td>14.281600</td>\n",
              "      <td>10.126000</td>\n",
              "      <td>4.040000</td>\n",
              "      <td>4.181460e+05</td>\n",
              "      <td>1.9760</td>\n",
              "      <td>2.14800</td>\n",
              "    </tr>\n",
              "    <tr>\n",
              "      <th>std</th>\n",
              "      <td>1.432016</td>\n",
              "      <td>1.834678</td>\n",
              "      <td>0.573706</td>\n",
              "      <td>5.418648e+05</td>\n",
              "      <td>2.5597</td>\n",
              "      <td>1.14611</td>\n",
              "    </tr>\n",
              "    <tr>\n",
              "      <th>min</th>\n",
              "      <td>11.400000</td>\n",
              "      <td>6.300000</td>\n",
              "      <td>3.160000</td>\n",
              "      <td>3.327800e+04</td>\n",
              "      <td>0.2000</td>\n",
              "      <td>-0.30000</td>\n",
              "    </tr>\n",
              "    <tr>\n",
              "      <th>25%</th>\n",
              "      <td>13.177500</td>\n",
              "      <td>9.000000</td>\n",
              "      <td>3.630000</td>\n",
              "      <td>9.259375e+04</td>\n",
              "      <td>0.4250</td>\n",
              "      <td>1.40000</td>\n",
              "    </tr>\n",
              "    <tr>\n",
              "      <th>50%</th>\n",
              "      <td>14.260000</td>\n",
              "      <td>9.800000</td>\n",
              "      <td>4.005000</td>\n",
              "      <td>2.450250e+05</td>\n",
              "      <td>1.2000</td>\n",
              "      <td>2.05000</td>\n",
              "    </tr>\n",
              "    <tr>\n",
              "      <th>75%</th>\n",
              "      <td>15.105000</td>\n",
              "      <td>11.675000</td>\n",
              "      <td>4.362500</td>\n",
              "      <td>5.496965e+05</td>\n",
              "      <td>2.5750</td>\n",
              "      <td>2.77500</td>\n",
              "    </tr>\n",
              "    <tr>\n",
              "      <th>max</th>\n",
              "      <td>17.570000</td>\n",
              "      <td>13.500000</td>\n",
              "      <td>5.610000</td>\n",
              "      <td>3.120386e+06</td>\n",
              "      <td>14.7000</td>\n",
              "      <td>5.70000</td>\n",
              "    </tr>\n",
              "  </tbody>\n",
              "</table>\n",
              "</div>\n",
              "      <button class=\"colab-df-convert\" onclick=\"convertToInteractive('df-36ce98a1-95c9-4e24-8dcb-f3e5286633d0')\"\n",
              "              title=\"Convert this dataframe to an interactive table.\"\n",
              "              style=\"display:none;\">\n",
              "        \n",
              "  <svg xmlns=\"http://www.w3.org/2000/svg\" height=\"24px\"viewBox=\"0 0 24 24\"\n",
              "       width=\"24px\">\n",
              "    <path d=\"M0 0h24v24H0V0z\" fill=\"none\"/>\n",
              "    <path d=\"M18.56 5.44l.94 2.06.94-2.06 2.06-.94-2.06-.94-.94-2.06-.94 2.06-2.06.94zm-11 1L8.5 8.5l.94-2.06 2.06-.94-2.06-.94L8.5 2.5l-.94 2.06-2.06.94zm10 10l.94 2.06.94-2.06 2.06-.94-2.06-.94-.94-2.06-.94 2.06-2.06.94z\"/><path d=\"M17.41 7.96l-1.37-1.37c-.4-.4-.92-.59-1.43-.59-.52 0-1.04.2-1.43.59L10.3 9.45l-7.72 7.72c-.78.78-.78 2.05 0 2.83L4 21.41c.39.39.9.59 1.41.59.51 0 1.02-.2 1.41-.59l7.78-7.78 2.81-2.81c.8-.78.8-2.07 0-2.86zM5.41 20L4 18.59l7.72-7.72 1.47 1.35L5.41 20z\"/>\n",
              "  </svg>\n",
              "      </button>\n",
              "      \n",
              "  <style>\n",
              "    .colab-df-container {\n",
              "      display:flex;\n",
              "      flex-wrap:wrap;\n",
              "      gap: 12px;\n",
              "    }\n",
              "\n",
              "    .colab-df-convert {\n",
              "      background-color: #E8F0FE;\n",
              "      border: none;\n",
              "      border-radius: 50%;\n",
              "      cursor: pointer;\n",
              "      display: none;\n",
              "      fill: #1967D2;\n",
              "      height: 32px;\n",
              "      padding: 0 0 0 0;\n",
              "      width: 32px;\n",
              "    }\n",
              "\n",
              "    .colab-df-convert:hover {\n",
              "      background-color: #E2EBFA;\n",
              "      box-shadow: 0px 1px 2px rgba(60, 64, 67, 0.3), 0px 1px 3px 1px rgba(60, 64, 67, 0.15);\n",
              "      fill: #174EA6;\n",
              "    }\n",
              "\n",
              "    [theme=dark] .colab-df-convert {\n",
              "      background-color: #3B4455;\n",
              "      fill: #D2E3FC;\n",
              "    }\n",
              "\n",
              "    [theme=dark] .colab-df-convert:hover {\n",
              "      background-color: #434B5C;\n",
              "      box-shadow: 0px 1px 3px 1px rgba(0, 0, 0, 0.15);\n",
              "      filter: drop-shadow(0px 1px 2px rgba(0, 0, 0, 0.3));\n",
              "      fill: #FFFFFF;\n",
              "    }\n",
              "  </style>\n",
              "\n",
              "      <script>\n",
              "        const buttonEl =\n",
              "          document.querySelector('#df-36ce98a1-95c9-4e24-8dcb-f3e5286633d0 button.colab-df-convert');\n",
              "        buttonEl.style.display =\n",
              "          google.colab.kernel.accessAllowed ? 'block' : 'none';\n",
              "\n",
              "        async function convertToInteractive(key) {\n",
              "          const element = document.querySelector('#df-36ce98a1-95c9-4e24-8dcb-f3e5286633d0');\n",
              "          const dataTable =\n",
              "            await google.colab.kernel.invokeFunction('convertToInteractive',\n",
              "                                                     [key], {});\n",
              "          if (!dataTable) return;\n",
              "\n",
              "          const docLinkHtml = 'Like what you see? Visit the ' +\n",
              "            '<a target=\"_blank\" href=https://colab.research.google.com/notebooks/data_table.ipynb>data table notebook</a>'\n",
              "            + ' to learn more about interactive tables.';\n",
              "          element.innerHTML = '';\n",
              "          dataTable['output_type'] = 'display_data';\n",
              "          await google.colab.output.renderOutput(dataTable, element);\n",
              "          const docLink = document.createElement('div');\n",
              "          docLink.innerHTML = docLinkHtml;\n",
              "          element.appendChild(docLink);\n",
              "        }\n",
              "      </script>\n",
              "    </div>\n",
              "  </div>\n",
              "  "
            ]
          },
          "metadata": {},
          "execution_count": 23
        }
      ]
    },
    {
      "cell_type": "code",
      "metadata": {
        "colab": {
          "base_uri": "https://localhost:8080/"
        },
        "id": "w5U7VUJjxoLr",
        "outputId": "d0c9aaae-2203-4d49-9e93-0110500cafb1"
      },
      "source": [
        "#Average Percentage of Youth Suffering from A Depressive Episode\n",
        "print(\"In 2019, there were about 21 million young people aged 15-19 in America. Assuming the number of youth did not increase or decrease..\")\n",
        "\n",
        "print(\"The average state percentage of youth suffering from at least one severe depressive episode in the past year is \" + str(data[\"One_Severe_Depressive\"].mean()) + \"%\")\n",
        "print(\"This is equivalent to \" + str((data[\"One_Severe_Depressive\"].mean())*21000000/100) + \" young people for each state.\")\n",
        "print(\"The average state percantage of youth suffering from a severe depressive episode in 2021 is \" + str(data['Severe_Depressive'].mean())+ \"%\")\n",
        "print(\"This is equivalent to \" + str((data['Severe_Depressive'].mean()*21000000)/100) + \" young people for each state.\")\n",
        "\n"
      ],
      "execution_count": 24,
      "outputs": [
        {
          "output_type": "stream",
          "name": "stdout",
          "text": [
            "In 2019, there were about 21 million young people aged 15-19 in America. Assuming the number of youth did not increase or decrease..\n",
            "The average state percentage of youth suffering from at least one severe depressive episode in the past year is 14.2816%\n",
            "This is equivalent to 2999136.0 young people for each state.\n",
            "The average state percantage of youth suffering from a severe depressive episode in 2021 is 10.126%\n",
            "This is equivalent to 2126460.0 young people for each state.\n"
          ]
        }
      ]
    },
    {
      "cell_type": "code",
      "metadata": {
        "colab": {
          "base_uri": "https://localhost:8080/"
        },
        "id": "_vkYMBoC47GO",
        "outputId": "7279b05d-b8ec-4d69-fce1-872ce360727c"
      },
      "source": [
        "#Average Percantage of Youth Suffering from Substance Abuse\n",
        "print(\"The average state percentage of youth suffering from substance abuse in the past year is \" + str(data[\"sub_disorder\"].mean()) + \"%\")\n",
        "print(\"This is equivalent to \" + str((data[\"sub_disorder\"].mean())*21000000/100) + \" young people for each state.\")\n",
        "\n"
      ],
      "execution_count": 25,
      "outputs": [
        {
          "output_type": "stream",
          "name": "stdout",
          "text": [
            "The average state percentage of youth suffering from substance abuse in the past year is 4.04%\n",
            "This is equivalent to 848400.0 young people for each state.\n"
          ]
        }
      ]
    },
    {
      "cell_type": "code",
      "metadata": {
        "colab": {
          "base_uri": "https://localhost:8080/"
        },
        "id": "1XFdZwQH42rH",
        "outputId": "d6b909c3-9623-4762-b6f9-a8b7f0727ccb"
      },
      "source": [
        "#Finding Covarriance Using Pandas\n",
        "data.cov()\n",
        "#There is a negative coefficient between the variables: percentage of youth who experienced at least one severe depressive episode, percantage of those who experience a severe depressive episode in 2021, and those who had suffer from substance abuse in the past year, and the other variable, the GDP of each state. \n",
        "print(\"Using the Covarriance Matrix to find a covarriance, there is a negative coefficient between the variables: percentage of youth who experienced at least one severe depressive episode, percantage of those who experience a severe depressive episode in 2021, and those who had suffer from substance abuse in the past year, and the other variable, the GDP of each state.\")\n",
        "print(\"In other words, as GDP or the percantage of the state's GDP relative to the national's GDP, decreases as the rate at which youth struggle with depressive episodes and substance abuse increases.\")"
      ],
      "execution_count": 26,
      "outputs": [
        {
          "output_type": "stream",
          "name": "stdout",
          "text": [
            "Using the Covarriance Matrix to find a covarriance, there is a negative coefficient between the variables: percentage of youth who experienced at least one severe depressive episode, percantage of those who experience a severe depressive episode in 2021, and those who had suffer from substance abuse in the past year, and the other variable, the GDP of each state.\n",
            "In other words, as GDP or the percantage of the state's GDP relative to the national's GDP, decreases as the rate at which youth struggle with depressive episodes and substance abuse increases.\n"
          ]
        }
      ]
    },
    {
      "cell_type": "code",
      "metadata": {
        "colab": {
          "base_uri": "https://localhost:8080/",
          "height": 745
        },
        "id": "GxSjang09VPF",
        "outputId": "07f73750-2983-4138-dd6b-8a0d795bd835"
      },
      "source": [
        "#Finding Correlation Coefficient\n",
        "data.corr()\n",
        "# set the figure size \n",
        "plt.subplots(figsize=(18, 12))\n",
        "\n",
        "# create var for matrix \n",
        "corr = data.corr()\n",
        "\n",
        "# plot the cor matrix \n",
        "sns.heatmap(corr, xticklabels=corr.columns.values, yticklabels=corr.columns.values, linewidths=.5,annot=True)\n",
        "\n",
        "#change the color palette\n",
        "sns.color_palette(\"coolwarm\", as_cmap=True)\n",
        "\n",
        "print(\"Using Seaborn to visualize a heatmap and the correlation coefficient matrix, the coefficient, r is negative between the state's GDP / GDP growth rate from 2018 and youth suffering from substance abuse or severe depressive episodes. Futhermore, r is positive between the percantage of youth who suffered from substance abuse and severe depressive episodes.\")"
      ],
      "execution_count": 27,
      "outputs": [
        {
          "output_type": "stream",
          "name": "stdout",
          "text": [
            "Using Seaborn to visualize a heatmap and the correlation coefficient matrix, the coefficient, r is negative between the state's GDP / GDP growth rate from 2018 and youth suffering from substance abuse or severe depressive episodes. Futhermore, r is positive between the percantage of youth who suffered from substance abuse and severe depressive episodes.\n"
          ]
        },
        {
          "output_type": "display_data",
          "data": {
            "text/plain": [
              "<Figure size 1296x864 with 2 Axes>"
            ],
            "image/png": "[encoded data removed]"
          },
          "metadata": {
            "needs_background": "light"
          }
        }
      ]
    },
    {
      "cell_type": "code",
      "metadata": {
        "colab": {
          "base_uri": "https://localhost:8080/"
        },
        "id": "fdGP1-cFCJ4R",
        "outputId": "ce35b0f3-2672-4f74-9689-f2d4a5dd1c33"
      },
      "source": [
        "#Percentiles...50%\n",
        "np.quantile(data[\"percent_gdp\"], 0.5)\n"
      ],
      "execution_count": 28,
      "outputs": [
        {
          "output_type": "execute_result",
          "data": {
            "text/plain": [
              "1.2"
            ]
          },
          "metadata": {},
          "execution_count": 28
        }
      ]
    },
    {
      "cell_type": "code",
      "metadata": {
        "colab": {
          "base_uri": "https://localhost:8080/"
        },
        "id": "1zjuzaFiC7cB",
        "outputId": "64692263-9b07-49a0-923d-6d8c0668d2a9"
      },
      "source": [
        "#....25%\n",
        "np.quantile(data[\"percent_gdp\"], 0.25)\n",
        "# print(\"Using quantiles, 75% of U.S. states has a higher percentage than .425% of the national GDP and 25% of states with lower than .425% of the national GDP.\")\n",
        "\n"
      ],
      "execution_count": 29,
      "outputs": [
        {
          "output_type": "execute_result",
          "data": {
            "text/plain": [
              "0.42500000000000004"
            ]
          },
          "metadata": {},
          "execution_count": 29
        }
      ]
    },
    {
      "cell_type": "code",
      "metadata": {
        "colab": {
          "base_uri": "https://localhost:8080/"
        },
        "id": "Ddha16M2DaGd",
        "outputId": "a2228e05-b554-4043-8af8-b07edf00252b"
      },
      "source": [
        "#...75%\n",
        "np.quantile(data[\"percent_gdp\"], 0.75)\n",
        "# print(\"Using quantiles, 75% of U.S. states has a lower percentage than 2.575% of the national GDP and 25% of states with higher than 2.575 of the national GDP.\")\n"
      ],
      "execution_count": 30,
      "outputs": [
        {
          "output_type": "execute_result",
          "data": {
            "text/plain": [
              "2.575"
            ]
          },
          "metadata": {},
          "execution_count": 30
        }
      ]
    },
    {
      "cell_type": "code",
      "metadata": {
        "colab": {
          "base_uri": "https://localhost:8080/",
          "height": 516
        },
        "id": "iRvV-odtgexc",
        "outputId": "51ade7a4-fa34-4247-8856-93396478cd82"
      },
      "source": [
        "#for linear regression (to predict, )\n",
        "# Set size of plot\n",
        "plt.figure(figsize = (15, 8))\n",
        "\n",
        "# Set X andY values to plot\n",
        "plt.scatter(data['One_Severe_Depressive'], data[\"percent_gdp\"])\n",
        "# Set axis labels\n",
        "plt.xlabel(\"One_Severe_Depressive\")\n",
        "plt.ylabel(\"Percentage of GDP of Each State\")\n",
        "# Set axis range\n",
        "plt.xlim(0, 18 )\n",
        "plt.ylim(0, 15 )"
      ],
      "execution_count": 31,
      "outputs": [
        {
          "output_type": "execute_result",
          "data": {
            "text/plain": [
              "(0.0, 15.0)"
            ]
          },
          "metadata": {},
          "execution_count": 31
        },
        {
          "output_type": "display_data",
          "data": {
            "text/plain": [
              "<Figure size 1080x576 with 1 Axes>"
            ],
            "image/png": "[encoded data removed]"
          },
          "metadata": {
            "needs_background": "light"
          }
        }
      ]
    },
    {
      "cell_type": "code",
      "metadata": {
        "id": "szypvtCLD4Ry"
      },
      "source": [
        "# Y dataset\n",
        "Y = data[[\"sub_disorder\"]]\n",
        "\n",
        "# X dataset\n",
        "X = data[[\"percent_gdp\"]]"
      ],
      "execution_count": 53,
      "outputs": []
    },
    {
      "cell_type": "code",
      "metadata": {
        "id": "dYzH4TDiEC54"
      },
      "source": [
        "# instantiate our model \n",
        "sub_disorder_LR_model = LinearRegression()"
      ],
      "execution_count": 33,
      "outputs": []
    },
    {
      "cell_type": "code",
      "metadata": {
        "colab": {
          "base_uri": "https://localhost:8080/"
        },
        "id": "XmvmUfoZEKFx",
        "outputId": "4567a4f0-10ee-4802-c95f-d66af23d9cd7"
      },
      "source": [
        "# fit our model \n",
        "sub_disorder_LR_model.fit(X, Y)\n"
      ],
      "execution_count": 34,
      "outputs": [
        {
          "output_type": "execute_result",
          "data": {
            "text/plain": [
              "LinearRegression()"
            ]
          },
          "metadata": {},
          "execution_count": 34
        }
      ]
    },
    {
      "cell_type": "code",
      "metadata": {
        "colab": {
          "base_uri": "https://localhost:8080/"
        },
        "id": "eNBPj-HSEQpE",
        "outputId": "51e26ce4-117a-4a42-d5dd-666b3e733170"
      },
      "source": [
        "# find the intercept\n",
        "sub_disorder_LR_model.intercept_"
      ],
      "execution_count": 35,
      "outputs": [
        {
          "output_type": "execute_result",
          "data": {
            "text/plain": [
              "array([4.15952586])"
            ]
          },
          "metadata": {},
          "execution_count": 35
        }
      ]
    },
    {
      "cell_type": "code",
      "metadata": {
        "colab": {
          "base_uri": "https://localhost:8080/"
        },
        "id": "qYFGVGkPEW7T",
        "outputId": "0d377252-6c69-4be8-a5f1-07787b19b8fd"
      },
      "source": [
        "sub_disorder_LR_model.coef_"
      ],
      "execution_count": 36,
      "outputs": [
        {
          "output_type": "execute_result",
          "data": {
            "text/plain": [
              "array([[-0.06048879]])"
            ]
          },
          "metadata": {},
          "execution_count": 36
        }
      ]
    },
    {
      "cell_type": "markdown",
      "metadata": {
        "id": "UGtsW6n3Dp7e"
      },
      "source": []
    },
    {
      "cell_type": "code",
      "metadata": {
        "colab": {
          "base_uri": "https://localhost:8080/",
          "height": 497
        },
        "id": "mQaeZsq0Fi4J",
        "outputId": "79943eab-a8a8-4c9f-cdf6-b964c74a0ca4"
      },
      "source": [
        "# Set size of plot\n",
        "plt.figure(figsize=(8, 8))\n",
        "\n",
        "# Plot our model output\n",
        "x_plot = np.linspace(0, 140) \n",
        "y_plot = 0.17550916 * x_plot + 70.25449762\n",
        "plt.plot(x_plot, y_plot)\n",
        "\n",
        "# Plot our Observed Data\n",
        "plt.scatter(data[\"percent_gdp\"],data[\"sub_disorder\"])\n",
        "plt.xlabel(\"Percentage of State's GDP\")\n",
        "plt.ylabel(\"Percentage of Youth's Substance Abuse Disorder\")\n",
        "plt.xlim(0,140)\n",
        "plt.ylim(0,110);"
      ],
      "execution_count": 37,
      "outputs": [
        {
          "output_type": "display_data",
          "data": {
            "text/plain": [
              "<Figure size 576x576 with 1 Axes>"
            ],
            "image/png": "[encoded data removed]"
          },
          "metadata": {
            "needs_background": "light"
          }
        }
      ]
    },
    {
      "cell_type": "code",
      "metadata": {
        "colab": {
          "base_uri": "https://localhost:8080/"
        },
        "id": "Xkyb6lM2F2nL",
        "outputId": "2b79ecc7-b838-4d7a-dc80-70f1ae6e68bd"
      },
      "source": [
        "sub_disorder_LR_model.predict([[1.2]])\n",
        "print(\"Using linear regression, if your state has 1.2% of the national GDP, then there is about a 4.090% chance, youth will face substance abuse disorder in his/her respective state.\")"
      ],
      "execution_count": 54,
      "outputs": [
        {
          "output_type": "stream",
          "name": "stdout",
          "text": [
            "Using linear regression, if your state has 1.2% of the national GDP, then there is about a 4.090% chance, youth will face substance abuse disorder in his/her respective state.\n"
          ]
        },
        {
          "output_type": "stream",
          "name": "stderr",
          "text": [
            "/usr/local/lib/python3.7/dist-packages/sklearn/base.py:451: UserWarning: X does not have valid feature names, but LinearRegression was fitted with feature names\n",
            "  \"X does not have valid feature names, but\"\n"
          ]
        }
      ]
    },
    {
      "cell_type": "code",
      "metadata": {
        "colab": {
          "base_uri": "https://localhost:8080/"
        },
        "id": "iImCwKvQGiNN",
        "outputId": "01b36e64-16e2-40bc-f9b2-59970113aa3a"
      },
      "source": [
        "print(sub_disorder_LR_model.predict([[.425]]))\n",
        "print(\"Using linear regression, if your state has .425 of the national GDP, then there is about a 4.134% chance, youth will face substance abuse disorder in his/her respective state.\")"
      ],
      "execution_count": 55,
      "outputs": [
        {
          "output_type": "stream",
          "name": "stdout",
          "text": [
            "[[4.13381812]]\n",
            "Using linear regression, if your state has .425 of the national GDP, then there is about a 4.134% chance, youth will face substance abuse disorder in his/her respective state.\n"
          ]
        },
        {
          "output_type": "stream",
          "name": "stderr",
          "text": [
            "/usr/local/lib/python3.7/dist-packages/sklearn/base.py:451: UserWarning: X does not have valid feature names, but LinearRegression was fitted with feature names\n",
            "  \"X does not have valid feature names, but\"\n"
          ]
        }
      ]
    },
    {
      "cell_type": "code",
      "metadata": {
        "colab": {
          "base_uri": "https://localhost:8080/"
        },
        "id": "9B7wY1NtGv0b",
        "outputId": "fd5ccb33-6d87-4484-e295-657a067f254d"
      },
      "source": [
        "print(sub_disorder_LR_model.predict([[2.575]]))\n",
        "print(\"Using linear regression, if your state has .425 of the national GDP, then there is about a chance, youth will face substance abuse disorder in his/her respective state.\")"
      ],
      "execution_count": 50,
      "outputs": [
        {
          "output_type": "stream",
          "name": "stdout",
          "text": [
            "[[4.00376721]]\n",
            "Using linear regression, if your state has .425 of the national GDP, then there is about a chance, youth will face substance abuse disorder in his/her respective state.\n"
          ]
        },
        {
          "output_type": "stream",
          "name": "stderr",
          "text": [
            "/usr/local/lib/python3.7/dist-packages/sklearn/base.py:451: UserWarning: X does not have valid feature names, but LinearRegression was fitted with feature names\n",
            "  \"X does not have valid feature names, but\"\n"
          ]
        }
      ]
    },
    {
      "cell_type": "code",
      "metadata": {
        "colab": {
          "base_uri": "https://localhost:8080/"
        },
        "id": "8Auxe2GCG4mu",
        "outputId": "f0746a4e-c805-4125-b197-e8d36b8edade"
      },
      "source": [
        "\n",
        "print(\"However, the calculated R-squared is \" + str(sub_disorder_LR_model.score(X, Y)) + \" thus variations in the feature account for 7.3% of the variation in the target, the dependent variable, the state percentage of youth facing substance abuse in the past year.\")"
      ],
      "execution_count": 45,
      "outputs": [
        {
          "output_type": "stream",
          "name": "stdout",
          "text": [
            "However, the calculated R-squared is 0.07283649260987768 thus variations in the feature account for 7.3% of the variation in the target, the dependent variable, the state percentage of youth facing substance abuse in the past year.\n"
          ]
        }
      ]
    }
  ]
}